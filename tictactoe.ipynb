{
 "cells": [
  {
   "cell_type": "code",
   "execution_count": 1,
   "metadata": {},
   "outputs": [],
   "source": [
    "from IPython.display import clear_output\n",
    "def tictactoe():\n",
    "    clear_output()\n",
    "    play_again = True;\n",
    "    print(\"Game is now starting:\")\n",
    "    while play_again:\n",
    "        board = [' ',' ',' ',' ',' ',' ',' ',' ',' ',' ']\n",
    "        x = 1 #for player counting 1/2\n",
    "        print('PLAYER ',x,':Enter your Marker')\n",
    "        marker = input()\n",
    "        player_1 , player_2 = set_marker(marker)\n",
    "        while True:\n",
    "            if x > 2:\n",
    "                x = 1\n",
    "            print('PLAYER ',x,':Enter your position')\n",
    "            pos = int(input())\n",
    "            if not check_pos(pos,board): #Checking whether the position is not previously filled\n",
    "                continue\n",
    "                \n",
    "            if x == 1:\n",
    "                set_board(board,player_1,pos)\n",
    "            else:\n",
    "                set_board(board,player_2,pos)\n",
    "            \n",
    "            dispboard(board)\n",
    "            if x == 1:\n",
    "                if check_win(board,player_1):\n",
    "                    print('Player',x,'Won the match')\n",
    "                    break\n",
    "            else:\n",
    "                if check_win(board,player_2):\n",
    "                    print('Player',x,'Won the match')\n",
    "                    break\n",
    "            \n",
    "            if not check_space(board): #check if there is no space in board\n",
    "                print('Draw!!!')\n",
    "                break\n",
    "                \n",
    "            x = x + 1\n",
    "            \n",
    "            \n",
    "        if not replay():\n",
    "            play_again = False\n",
    "def set_board(board,marker,pos):\n",
    "    board[pos] = marker\n",
    "    return board\n",
    "\n",
    "def check_win(board,marker):\n",
    "    return board[1] == marker and board[2] == marker and board[3] == marker or board[4] == marker and board[5] == marker and board[6] == marker or board[7] == marker and board[8] == marker and board[9] == marker or board[1] == marker and board[4] == marker and board[7] == marker or board[2] == marker and board[5] == marker and board[8] == marker or board[3] == marker and board[6] == marker and board[9] == marker or board[1] == marker and board[5] == marker and board[9] == marker or board[3] == marker and board[5] == marker and board[7] == marker  \n",
    "\n",
    "def dispboard(board):\n",
    "    clear_output()\n",
    "    print(f'  {board[7]} | {board[8]} | {board[9]}')\n",
    "    print('-------------')\n",
    "    print(f'  {board[4]} | {board[5]} | {board[6]}')\n",
    "    print('-------------')\n",
    "    print(f'  {board[1]} | {board[2]} | {board[3]}')\n",
    "    \n",
    "    \n",
    "def replay():\n",
    "    print('Do you want to play Again?')\n",
    "    ans = input('y/n')\n",
    "    return ans == 'Y' or ans == 'y'\n",
    "\n",
    "def set_marker(marker):\n",
    "    if marker == 'X':\n",
    "        return ('X','O')\n",
    "    else:\n",
    "        return ('O','X')\n",
    "    \n",
    "def check_pos(pos,board):\n",
    "    if board[pos] != ' ':\n",
    "        print('Position is already filled')\n",
    "        return False\n",
    "    else:\n",
    "        return True\n",
    "def check_space(board):\n",
    "    for i in range(1,10):\n",
    "        if board[i] == ' ':\n",
    "            return True\n",
    "    return False"
   ]
  },
  {
   "cell_type": "code",
   "execution_count": null,
   "metadata": {},
   "outputs": [
    {
     "name": "stdout",
     "output_type": "stream",
     "text": [
      "  X |   |  \n",
      "-------------\n",
      "    |   |  \n",
      "-------------\n",
      "    |   |  \n",
      "PLAYER  2 :Enter your position\n"
     ]
    }
   ],
   "source": [
    "tictactoe()\n"
   ]
  },
  {
   "cell_type": "code",
   "execution_count": null,
   "metadata": {},
   "outputs": [],
   "source": []
  },
  {
   "cell_type": "code",
   "execution_count": null,
   "metadata": {},
   "outputs": [],
   "source": []
  },
  {
   "cell_type": "code",
   "execution_count": null,
   "metadata": {},
   "outputs": [],
   "source": []
  },
  {
   "cell_type": "code",
   "execution_count": null,
   "metadata": {},
   "outputs": [],
   "source": []
  }
 ],
 "metadata": {
  "kernelspec": {
   "display_name": "Python 3",
   "language": "python",
   "name": "python3"
  },
  "language_info": {
   "codemirror_mode": {
    "name": "ipython",
    "version": 3
   },
   "file_extension": ".py",
   "mimetype": "text/x-python",
   "name": "python",
   "nbconvert_exporter": "python",
   "pygments_lexer": "ipython3",
   "version": "3.7.0"
  }
 },
 "nbformat": 4,
 "nbformat_minor": 2
}
